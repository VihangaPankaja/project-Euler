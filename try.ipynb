{
 "metadata": {
  "language_info": {
   "codemirror_mode": {
    "name": "ipython",
    "version": 3
   },
   "file_extension": ".py",
   "mimetype": "text/x-python",
   "name": "python",
   "nbconvert_exporter": "python",
   "pygments_lexer": "ipython3",
   "version": "3.9.5"
  },
  "orig_nbformat": 2,
  "kernelspec": {
   "name": "pythonjvsc74a57bd0034074c94184b45ae7e8d212c2e25d6c15ee41701e0c5327d628b74a0a977bfc",
   "display_name": "Python 3.9.5  ('eular': venv)"
  },
  "metadata": {
   "interpreter": {
    "hash": "034074c94184b45ae7e8d212c2e25d6c15ee41701e0c5327d628b74a0a977bfc"
   }
  }
 },
 "nbformat": 4,
 "nbformat_minor": 2,
 "cells": [
  {
   "cell_type": "code",
   "execution_count": 26,
   "metadata": {},
   "outputs": [],
   "source": [
    "def Prime(n):\n",
    "    if n == 2 or n == 1:\n",
    "        return True\n",
    "\n",
    "    if n & 1 == 0:\n",
    "        return False\n",
    "\n",
    "    d= 3\n",
    "    while d * d <= n:\n",
    "        if n % d == 0:\n",
    "            return False\n",
    "        d= d + 2\n",
    "    return True"
   ]
  },
  {
   "cell_type": "code",
   "execution_count": 20,
   "metadata": {},
   "outputs": [],
   "source": [
    "import my_math\n",
    "is_prime = my_math.is_prime "
   ]
  },
  {
   "cell_type": "code",
   "execution_count": 19,
   "metadata": {},
   "outputs": [],
   "source": [
    "# n = 1000000007"
   ]
  },
  {
   "cell_type": "code",
   "execution_count": 27,
   "metadata": {},
   "outputs": [
    {
     "output_type": "stream",
     "name": "stdout",
     "text": [
      "3.64 s ± 156 ms per loop (mean ± std. dev. of 7 runs, 1 loop each)\n"
     ]
    }
   ],
   "source": [
    "%timeit for n in range(1000000):Prime(n)"
   ]
  },
  {
   "cell_type": "code",
   "execution_count": 24,
   "metadata": {},
   "outputs": [
    {
     "output_type": "stream",
     "name": "stdout",
     "text": [
      "3.8 s ± 55.7 ms per loop (mean ± std. dev. of 7 runs, 1 loop each)\n"
     ]
    }
   ],
   "source": [
    "%timeit for n in range(1000000):is_prime(n)"
   ]
  },
  {
   "cell_type": "code",
   "execution_count": 25,
   "metadata": {},
   "outputs": [
    {
     "output_type": "stream",
     "name": "stdout",
     "text": [
      "1\n"
     ]
    }
   ],
   "source": [
    "for n in range(1000000):\n",
    "    if Prime(n) is not is_prime(n):\n",
    "        print(n)\n"
   ]
  }
 ]
}