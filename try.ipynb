{
 "metadata": {
  "language_info": {
   "codemirror_mode": {
    "name": "ipython",
    "version": 3
   },
   "file_extension": ".py",
   "mimetype": "text/x-python",
   "name": "python",
   "nbconvert_exporter": "python",
   "pygments_lexer": "ipython3",
   "version": "3.9.5"
  },
  "orig_nbformat": 2,
  "kernelspec": {
   "name": "python3",
   "display_name": "Python 3.9.5  ('eular': venv)"
  },
  "metadata": {
   "interpreter": {
    "hash": "034074c94184b45ae7e8d212c2e25d6c15ee41701e0c5327d628b74a0a977bfc"
   }
  },
  "interpreter": {
   "hash": "034074c94184b45ae7e8d212c2e25d6c15ee41701e0c5327d628b74a0a977bfc"
  }
 },
 "nbformat": 4,
 "nbformat_minor": 2,
 "cells": [
  {
   "cell_type": "code",
   "execution_count": 4,
   "metadata": {},
   "outputs": [],
   "source": [
    "import numpy as np\n",
    "from math import sqrt, ceil"
   ]
  },
  {
   "cell_type": "code",
   "execution_count": 4,
   "metadata": {},
   "outputs": [
    {
     "output_type": "stream",
     "name": "stdout",
     "text": [
      "{7937, 2, 3, 131, 5, 7, 11, 1931, 13, 17, 919, 93719, 31, 9377, 11939, 37, 1193, 99371, 3119, 311, 91193, 71993, 19391, 3779, 197, 71, 199, 73, 971, 79, 719, 337, 39119, 37199, 93911, 733, 991, 9311, 97, 19937, 113, 7793, 373}\n43\n"
     ]
    }
   ],
   "source": [
    "from my_math import prime_list_till\n",
    "\n",
    "\n",
    "def number_rotations(n) -> list[int]:\n",
    "    digits: list[str] = list(str(n))\n",
    "    rotate: list[int] = []\n",
    "\n",
    "    for _ in range(len(digits)):\n",
    "        digits.append(digits.pop(0))            # rotate digits\n",
    "        rotate.append(int(''.join(digits)))\n",
    "\n",
    "    return rotate                               # return rotated digits\n",
    "\n",
    "\n",
    "def circular_prime_count(prime_lst: list[int]) -> list[int]:\n",
    "    circular_primes: list[int] = []                          # circukar primes pound\n",
    "    \n",
    "    while True:\n",
    "        elem = number_rotations(prime_lst[0])       # checck first in primes\n",
    "        for i in elem:\n",
    "            if i not in prime_lst:                  # if all of rotated numebrs aren't prime break\n",
    "                break\n",
    "\n",
    "        else:\n",
    "            for j in elem:\n",
    "                circular_primes.append(j)           # if all primes add to list\n",
    "        \n",
    "\n",
    "        for j in elem:\n",
    "            try:\n",
    "                prime_lst.remove(j)                 # remove all checked primes\n",
    "\n",
    "            except:\n",
    "                pass\n",
    "        \n",
    "        if prime_lst == []:                         # if primes are empty\n",
    "            break\n",
    "\n",
    "    print(set(circular_primes))\n",
    "    return len(set(circular_primes))\n",
    "    \n",
    "    \n",
    "if __name__ == \"__main__\":\n",
    "    print(circular_prime_count(prime_list_till(1_00000)))"
   ]
  }
 ]
}