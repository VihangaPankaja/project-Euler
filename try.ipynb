{
 "metadata": {
  "language_info": {
   "codemirror_mode": {
    "name": "ipython",
    "version": 3
   },
   "file_extension": ".py",
   "mimetype": "text/x-python",
   "name": "python",
   "nbconvert_exporter": "python",
   "pygments_lexer": "ipython3",
   "version": "3.9.5"
  },
  "orig_nbformat": 2,
  "kernelspec": {
   "name": "pythonjvsc74a57bd0034074c94184b45ae7e8d212c2e25d6c15ee41701e0c5327d628b74a0a977bfc",
   "display_name": "Python 3.9.5  ('eular': venv)"
  },
  "metadata": {
   "interpreter": {
    "hash": "034074c94184b45ae7e8d212c2e25d6c15ee41701e0c5327d628b74a0a977bfc"
   }
  }
 },
 "nbformat": 4,
 "nbformat_minor": 2,
 "cells": [
  {
   "cell_type": "code",
   "execution_count": 14,
   "metadata": {},
   "outputs": [],
   "source": [
    "wrd = {\n",
    "        0:'zero',\n",
    "        1:'one',\n",
    "        2:'two',\n",
    "        3:'three',\n",
    "        4:'four',\n",
    "        5:'five',\n",
    "        6:'six',\n",
    "        7:'seven',\n",
    "        8:'eight',\n",
    "        9:'nine',\n",
    "}"
   ]
  },
  {
   "cell_type": "code",
   "execution_count": 15,
   "metadata": {},
   "outputs": [],
   "source": [
    "def dec_to_wrd(dec: str, spaces:bool=True)-> str:\n",
    "    return (' ' if spaces else '').join([wrd[int(digit)] for digit in dec])"
   ]
  },
  {
   "cell_type": "code",
   "execution_count": 16,
   "metadata": {},
   "outputs": [
    {
     "output_type": "stream",
     "name": "stdout",
     "text": [
      "three four two two four\n"
     ]
    }
   ],
   "source": [
    "print(dec_to_wrd('34224', spaces=True))"
   ]
  },
  {
   "cell_type": "code",
   "execution_count": 12,
   "metadata": {},
   "outputs": [
    {
     "output_type": "stream",
     "name": "stdout",
     "text": [
      "{'e+0': '2'}\n"
     ]
    }
   ],
   "source": [
    "n = '2'\n",
    "quo, rem = len(n)//3, len(n)%3\n",
    "\n",
    "digit_grps = {f'e+{quo*3}':n[:-quo*3]} if rem != 0 else {}\n",
    "digit_grps.update({f'e+{(i - 1) * 3}' : n[(-i * 3) : (-i * 3 + 3) if (-i * 3 + 3) != 0 else None] for i in range(quo, 0, -1)})\n",
    "\n",
    "if len(n) < 3:\n",
    "    digit_grps = {'e+0':n}\n",
    "\n",
    "print(digit_grps)"
   ]
  },
  {
   "cell_type": "code",
   "execution_count": null,
   "metadata": {},
   "outputs": [],
   "source": []
  }
 ]
}