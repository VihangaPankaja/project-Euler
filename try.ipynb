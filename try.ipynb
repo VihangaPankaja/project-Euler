{
 "metadata": {
  "language_info": {
   "codemirror_mode": {
    "name": "ipython",
    "version": 3
   },
   "file_extension": ".py",
   "mimetype": "text/x-python",
   "name": "python",
   "nbconvert_exporter": "python",
   "pygments_lexer": "ipython3",
   "version": "3.9.5"
  },
  "orig_nbformat": 2,
  "kernelspec": {
   "name": "pythonjvsc74a57bd0034074c94184b45ae7e8d212c2e25d6c15ee41701e0c5327d628b74a0a977bfc",
   "display_name": "Python 3.9.5  ('eular': venv)"
  },
  "metadata": {
   "interpreter": {
    "hash": "034074c94184b45ae7e8d212c2e25d6c15ee41701e0c5327d628b74a0a977bfc"
   }
  }
 },
 "nbformat": 4,
 "nbformat_minor": 2,
 "cells": [
  {
   "cell_type": "code",
   "execution_count": 98,
   "metadata": {
    "tags": []
   },
   "outputs": [],
   "source": [
    "from my_math import divisors\n",
    "max_non_abn = 28123\n",
    "def abn_list() -> list[int]:\n",
    "    \"\"\" check for abundant numbers in range \"\"\"\n",
    "    global max_non_abn\n",
    "\n",
    "    abn_lst: list[int] = []\n",
    "    for i in range(max_non_abn):\n",
    "        if sum(divisors(i + 1)) > (i + 1):\n",
    "            abn_lst.append((i + 1))\n",
    "\n",
    "    return abn_lst"
   ]
  },
  {
   "cell_type": "code",
   "execution_count": 96,
   "metadata": {},
   "outputs": [],
   "source": [
    "import numpy as np\n",
    "from math import *\n",
    "\n",
    "def abns(num):\n",
    "    nums = np.zeros(num+1, dtype=bool)\n",
    "\n",
    "    for i in range(12, num+1, 6):\n",
    "        nums[i] = True\n",
    "    \n",
    "    for i in range(12, num+1):\n",
    "        \n",
    "        if not nums[i]:\n",
    "            div_sum = 1\n",
    "            for j in range(2, floor(sqrt(i)) + 1):\n",
    "                if i%j == 0:\n",
    "\n",
    "                    if i//j == j:\n",
    "                        div_sum += j\n",
    "                    \n",
    "                    else:\n",
    "                        div_sum += j\n",
    "                        div_sum += i/j\n",
    "\n",
    "            if div_sum == i:\n",
    "                for j in range(2*i, num+1, i):\n",
    "                    nums[j] = True\n",
    "\n",
    "            elif div_sum > i:\n",
    "                for j in range(i, num+1, i):\n",
    "                    nums[j] = True\n",
    "    \n",
    "    return np.nonzero(nums)[0]\n",
    "            \n"
   ]
  },
  {
   "cell_type": "code",
   "execution_count": 101,
   "metadata": {
    "tags": []
   },
   "outputs": [
    {
     "output_type": "stream",
     "name": "stdout",
     "text": [
      "125 ms ± 25.3 ms per loop (mean ± std. dev. of 7 runs, 1 loop each)\n"
     ]
    }
   ],
   "source": [
    "%timeit len(abns(28123))"
   ]
  },
  {
   "cell_type": "code",
   "execution_count": 102,
   "metadata": {},
   "outputs": [
    {
     "output_type": "stream",
     "name": "stdout",
     "text": [
      "11.3 s ± 209 ms per loop (mean ± std. dev. of 7 runs, 1 loop each)\n"
     ]
    }
   ],
   "source": [
    "%timeit len(abn_list())"
   ]
  }
 ]
}